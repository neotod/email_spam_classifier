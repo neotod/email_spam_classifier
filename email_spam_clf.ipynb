{
 "cells": [
  {
   "cell_type": "code",
   "execution_count": 10,
   "metadata": {},
   "outputs": [],
   "source": [
    "import os\n",
    "import re\n",
    "from dotenv import load_dotenv\n",
    "import pandas as pd\n",
    "from matplotlib import pyplot as plt\n",
    "import seaborn as sns\n",
    "\n",
    "from nltk.stem import PorterStemmer\n",
    "from nltk.tokenize import word_tokenize\n",
    "\n",
    "from sklearn.model_selection import train_test_split, cross_val_score\n",
    "from sklearn.svm import SVC\n",
    "from sklearn.tree import DecisionTreeClassifier\n",
    "from sklearn.ensemble import RandomForestClassifier\n",
    "from sklearn.linear_model import LogisticRegression\n",
    "from sklearn.metrics import confusion_matrix"
   ]
  },
  {
   "cell_type": "code",
   "execution_count": 5,
   "metadata": {},
   "outputs": [],
   "source": [
    "def is_text_contains_html(text: str):\n",
    "    html_tags_regex_pattern = r\"\"\"<(“[^”]*”|'[^’]*’|[^'”>]*)>\"\"\"\n",
    "    return re.search(html_tags_regex_pattern, text) != None\n",
    "\n",
    "\n",
    "def is_text_contains_too_many_ucases(text: str, threshold=500):\n",
    "    uppercase_regex_pattern = r\"\"\"[A-Z]\"\"\"\n",
    "    return (\n",
    "        len(\n",
    "            [\n",
    "                mtch\n",
    "                for row in re.findall(uppercase_regex_pattern, text)\n",
    "                for mtch in row\n",
    "                if mtch\n",
    "            ]\n",
    "        )\n",
    "        > threshold\n",
    "    )\n",
    "\n",
    "\n",
    "def count_text_urls(text: str):\n",
    "    url_regex_ptrn = r\"((http|ftp|https):\\/\\/)?([\\w\\-_]+(?:(?:\\.[\\w\\-_]+)+))([\\w\\-\\.,@?^=%&:/~\\+#]*[\\w\\-\\@?^=%&/~\\+#])?\"\n",
    "    return len(\n",
    "        [mtch for row in re.findall(url_regex_ptrn, text) for mtch in row if mtch]\n",
    "    )\n",
    "\n",
    "\n",
    "def count_text_emails(text: str):\n",
    "    email_regex_pattern = r\"([a-zA-Z0-9_.+-]+@[a-zA-Z0-9-]+\\.[a-zA-Z0-9-.]+)\"\n",
    "    return len(re.findall(email_regex_pattern, text))\n",
    "\n",
    "\n",
    "def refine_email_content(email_text: str):\n",
    "    first_double_new_line_char_idx = email_text.split(\"\\n\").index(\"\")\n",
    "    prev_line_text = email_text.split(\"\\n\")[first_double_new_line_char_idx - 1]\n",
    "\n",
    "    place_after_header = email_text.find(prev_line_text) + len(prev_line_text)\n",
    "\n",
    "    return email_text[place_after_header:].strip().strip('\\n')\n",
    "\n",
    "\n",
    "def stem_words(words):\n",
    "    stemmer = PorterStemmer()\n",
    "    stemmed_words = []\n",
    "    for word in words:\n",
    "        stemmed_words.append(stemmer.stem(word))\n",
    "\n",
    "    return stemmed_words\n",
    "\n",
    "\n",
    "def calc_text_indicator_words_score(text: str):\n",
    "    indicator_words = {\n",
    "        \"milf\": {\"severity\": 0.9},\n",
    "        \"adult\": {\"severity\": 0.8},\n",
    "        \"penis\": {\"severity\": 0.9},\n",
    "        \"sex\": {\"severity\": 0.8},\n",
    "        \"click\": {\"severity\": 0.4},\n",
    "        \"here\": {\"severity\": 0.2},\n",
    "        \"$\": {\"severity\": 0.5},\n",
    "        \"offer\": {\"severity\": 0.1},\n",
    "        \"give\": {\"severity\": 0.1},\n",
    "        \"away\": {\"severity\": 0.2},\n",
    "        \"free\": {\"severity\": 0.5},\n",
    "        \"forever\": {\"severity\": 0.1},\n",
    "        \"money\": {\"severity\": 0.3},\n",
    "        \"cash\": {\"severity\": 0.6},\n",
    "        \"profit\": {\"severity\": 0.5},\n",
    "        \"market\": {\"severity\": 0.4},\n",
    "        \"fat\": {\"severity\": 0.5},\n",
    "        \"slim\": {\"severity\": 0.5},\n",
    "    }\n",
    "\n",
    "    indicator_words_count = {}\n",
    "\n",
    "    raw_words = word_tokenize(text.lower())\n",
    "    stemmed_words = stem_words(raw_words)\n",
    "\n",
    "    for word in stemmed_words:\n",
    "        if word in indicator_words:\n",
    "            if word not in indicator_words_count:\n",
    "                indicator_words_count[word] = 0\n",
    "\n",
    "            indicator_words_count[word] += 1\n",
    "\n",
    "    score = 0\n",
    "    for word in indicator_words_count:\n",
    "        score += indicator_words_count[word] * indicator_words[word][\"severity\"]\n",
    "\n",
    "    return score\n",
    "\n",
    "\n",
    "def load_emails(main_dir_path, dirs_is_spam, limit=None):\n",
    "    emails = []\n",
    "    for email_dir_name in os.listdir(main_dir_path):\n",
    "        emails_dir_path = os.path.join(main_dir_path, email_dir_name)\n",
    "\n",
    "        if limit:\n",
    "            email_files_to_consider = os.listdir(emails_dir_path)[:limit]\n",
    "        else:\n",
    "            email_files_to_consider = os.listdir(emails_dir_path)\n",
    "\n",
    "        for email_file_name in email_files_to_consider:\n",
    "            email_full_path = os.path.join(emails_dir_path, email_file_name)\n",
    "\n",
    "            try:\n",
    "                with open(email_full_path, \"r\", encoding=\"windows-1252\") as f:\n",
    "                    raw_content = f.read()\n",
    "            except UnicodeDecodeError:\n",
    "                continue\n",
    "\n",
    "            email_id = email_file_name.split(\".\")[-1]\n",
    "            main_content = refine_email_content(raw_content)\n",
    "            emails.append(\n",
    "                {\n",
    "                    \"email_id\": email_id,\n",
    "                    \"contains_html\": is_text_contains_html(main_content),\n",
    "                    \"contains_many_ucase\": is_text_contains_too_many_ucases(\n",
    "                        main_content\n",
    "                    ),\n",
    "                    \"indicator_words_score\": calc_text_indicator_words_score(\n",
    "                        main_content\n",
    "                    ),\n",
    "                    \"email_counts\": count_text_emails(main_content),\n",
    "                    \"url_counts\": count_text_urls(main_content),\n",
    "                    \"is_spam\": dirs_is_spam[email_dir_name],\n",
    "                }\n",
    "            )\n",
    "\n",
    "        emails_df = pd.DataFrame(emails)\n",
    "\n",
    "    return emails_df\n"
   ]
  },
  {
   "cell_type": "code",
   "execution_count": 11,
   "metadata": {},
   "outputs": [
    {
     "name": "stdout",
     "output_type": "stream",
     "text": [
      "/run/media/neotod/internal_hdd/compsci/datasets/email_spam_clf\n"
     ]
    }
   ],
   "source": [
    "load_dotenv()\n",
    "\n",
    "emails_df = load_emails(\n",
    "    os.getenv(\"DATASET_PATH\"),\n",
    "    {\"spam\": True, \"hard_ham\": False, \"easy_ham\": False},\n",
    ")\n",
    "emails_df.set_index(\"email_id\", inplace=True)\n"
   ]
  },
  {
   "cell_type": "code",
   "execution_count": 4,
   "metadata": {},
   "outputs": [
    {
     "data": {
      "text/html": [
       "<div>\n",
       "<style scoped>\n",
       "    .dataframe tbody tr th:only-of-type {\n",
       "        vertical-align: middle;\n",
       "    }\n",
       "\n",
       "    .dataframe tbody tr th {\n",
       "        vertical-align: top;\n",
       "    }\n",
       "\n",
       "    .dataframe thead th {\n",
       "        text-align: right;\n",
       "    }\n",
       "</style>\n",
       "<table border=\"1\" class=\"dataframe\">\n",
       "  <thead>\n",
       "    <tr style=\"text-align: right;\">\n",
       "      <th></th>\n",
       "      <th>contains_html</th>\n",
       "      <th>contains_many_ucase</th>\n",
       "      <th>indicator_words_score</th>\n",
       "      <th>email_counts</th>\n",
       "      <th>url_counts</th>\n",
       "      <th>is_spam</th>\n",
       "    </tr>\n",
       "    <tr>\n",
       "      <th>email_id</th>\n",
       "      <th></th>\n",
       "      <th></th>\n",
       "      <th></th>\n",
       "      <th></th>\n",
       "      <th></th>\n",
       "      <th></th>\n",
       "    </tr>\n",
       "  </thead>\n",
       "  <tbody>\n",
       "    <tr>\n",
       "      <th>ea7e79d3153e7469e7a9c3e0af6a357e</th>\n",
       "      <td>True</td>\n",
       "      <td>False</td>\n",
       "      <td>1.5</td>\n",
       "      <td>3</td>\n",
       "      <td>11</td>\n",
       "      <td>False</td>\n",
       "    </tr>\n",
       "    <tr>\n",
       "      <th>b3120c4bcbf3101e661161ee7efcb8bf</th>\n",
       "      <td>False</td>\n",
       "      <td>False</td>\n",
       "      <td>0.5</td>\n",
       "      <td>1</td>\n",
       "      <td>9</td>\n",
       "      <td>False</td>\n",
       "    </tr>\n",
       "    <tr>\n",
       "      <th>acfc5ad94bbd27118a0d8685d18c89dd</th>\n",
       "      <td>False</td>\n",
       "      <td>False</td>\n",
       "      <td>0.7</td>\n",
       "      <td>1</td>\n",
       "      <td>9</td>\n",
       "      <td>False</td>\n",
       "    </tr>\n",
       "    <tr>\n",
       "      <th>e8d5727378ddde5c3be181df593f1712</th>\n",
       "      <td>False</td>\n",
       "      <td>False</td>\n",
       "      <td>0.0</td>\n",
       "      <td>1</td>\n",
       "      <td>9</td>\n",
       "      <td>False</td>\n",
       "    </tr>\n",
       "    <tr>\n",
       "      <th>8c3b9e9c0f3f183ddaf7592a11b99957</th>\n",
       "      <td>False</td>\n",
       "      <td>False</td>\n",
       "      <td>0.3</td>\n",
       "      <td>1</td>\n",
       "      <td>8</td>\n",
       "      <td>False</td>\n",
       "    </tr>\n",
       "    <tr>\n",
       "      <th>...</th>\n",
       "      <td>...</td>\n",
       "      <td>...</td>\n",
       "      <td>...</td>\n",
       "      <td>...</td>\n",
       "      <td>...</td>\n",
       "      <td>...</td>\n",
       "    </tr>\n",
       "    <tr>\n",
       "      <th>8c39bfed2079f865e9dfb75f4416a468</th>\n",
       "      <td>True</td>\n",
       "      <td>True</td>\n",
       "      <td>1.0</td>\n",
       "      <td>6</td>\n",
       "      <td>25</td>\n",
       "      <td>True</td>\n",
       "    </tr>\n",
       "    <tr>\n",
       "      <th>886f4a22362f4d3528c3e675878f17f7</th>\n",
       "      <td>False</td>\n",
       "      <td>False</td>\n",
       "      <td>1.5</td>\n",
       "      <td>1</td>\n",
       "      <td>8</td>\n",
       "      <td>True</td>\n",
       "    </tr>\n",
       "    <tr>\n",
       "      <th>9790e1c57fcbf7885b7cd1719fb4681b</th>\n",
       "      <td>False</td>\n",
       "      <td>False</td>\n",
       "      <td>1.1</td>\n",
       "      <td>1</td>\n",
       "      <td>24</td>\n",
       "      <td>True</td>\n",
       "    </tr>\n",
       "    <tr>\n",
       "      <th>fa6df8609cebb6f0f37aec3f70aa5b9a</th>\n",
       "      <td>False</td>\n",
       "      <td>False</td>\n",
       "      <td>1.5</td>\n",
       "      <td>1</td>\n",
       "      <td>8</td>\n",
       "      <td>True</td>\n",
       "    </tr>\n",
       "    <tr>\n",
       "      <th>f1d4194b57840ea6587b9a73ed88e075</th>\n",
       "      <td>False</td>\n",
       "      <td>False</td>\n",
       "      <td>18.1</td>\n",
       "      <td>1</td>\n",
       "      <td>26</td>\n",
       "      <td>True</td>\n",
       "    </tr>\n",
       "  </tbody>\n",
       "</table>\n",
       "<p>3296 rows × 6 columns</p>\n",
       "</div>"
      ],
      "text/plain": [
       "                                  contains_html  contains_many_ucase  \\\n",
       "email_id                                                               \n",
       "ea7e79d3153e7469e7a9c3e0af6a357e           True                False   \n",
       "b3120c4bcbf3101e661161ee7efcb8bf          False                False   \n",
       "acfc5ad94bbd27118a0d8685d18c89dd          False                False   \n",
       "e8d5727378ddde5c3be181df593f1712          False                False   \n",
       "8c3b9e9c0f3f183ddaf7592a11b99957          False                False   \n",
       "...                                         ...                  ...   \n",
       "8c39bfed2079f865e9dfb75f4416a468           True                 True   \n",
       "886f4a22362f4d3528c3e675878f17f7          False                False   \n",
       "9790e1c57fcbf7885b7cd1719fb4681b          False                False   \n",
       "fa6df8609cebb6f0f37aec3f70aa5b9a          False                False   \n",
       "f1d4194b57840ea6587b9a73ed88e075          False                False   \n",
       "\n",
       "                                  indicator_words_score  email_counts  \\\n",
       "email_id                                                                \n",
       "ea7e79d3153e7469e7a9c3e0af6a357e                    1.5             3   \n",
       "b3120c4bcbf3101e661161ee7efcb8bf                    0.5             1   \n",
       "acfc5ad94bbd27118a0d8685d18c89dd                    0.7             1   \n",
       "e8d5727378ddde5c3be181df593f1712                    0.0             1   \n",
       "8c3b9e9c0f3f183ddaf7592a11b99957                    0.3             1   \n",
       "...                                                 ...           ...   \n",
       "8c39bfed2079f865e9dfb75f4416a468                    1.0             6   \n",
       "886f4a22362f4d3528c3e675878f17f7                    1.5             1   \n",
       "9790e1c57fcbf7885b7cd1719fb4681b                    1.1             1   \n",
       "fa6df8609cebb6f0f37aec3f70aa5b9a                    1.5             1   \n",
       "f1d4194b57840ea6587b9a73ed88e075                   18.1             1   \n",
       "\n",
       "                                  url_counts  is_spam  \n",
       "email_id                                               \n",
       "ea7e79d3153e7469e7a9c3e0af6a357e          11    False  \n",
       "b3120c4bcbf3101e661161ee7efcb8bf           9    False  \n",
       "acfc5ad94bbd27118a0d8685d18c89dd           9    False  \n",
       "e8d5727378ddde5c3be181df593f1712           9    False  \n",
       "8c3b9e9c0f3f183ddaf7592a11b99957           8    False  \n",
       "...                                      ...      ...  \n",
       "8c39bfed2079f865e9dfb75f4416a468          25     True  \n",
       "886f4a22362f4d3528c3e675878f17f7           8     True  \n",
       "9790e1c57fcbf7885b7cd1719fb4681b          24     True  \n",
       "fa6df8609cebb6f0f37aec3f70aa5b9a           8     True  \n",
       "f1d4194b57840ea6587b9a73ed88e075          26     True  \n",
       "\n",
       "[3296 rows x 6 columns]"
      ]
     },
     "execution_count": 4,
     "metadata": {},
     "output_type": "execute_result"
    }
   ],
   "source": [
    "emails_df"
   ]
  },
  {
   "cell_type": "code",
   "execution_count": 5,
   "metadata": {},
   "outputs": [
    {
     "data": {
      "text/plain": [
       "<AxesSubplot:xlabel='is_spam', ylabel='contains_html'>"
      ]
     },
     "execution_count": 5,
     "metadata": {},
     "output_type": "execute_result"
    },
    {
     "data": {
      "image/png": "[encoded data removed]",
      "text/plain": [
       "<Figure size 1080x720 with 5 Axes>"
      ]
     },
     "metadata": {
      "needs_background": "light"
     },
     "output_type": "display_data"
    }
   ],
   "source": [
    "plt.figure(figsize=(15, 10))\n",
    "\n",
    "plt.subplot(2, 3, 1)\n",
    "sns.barplot(x=\"is_spam\", y=\"indicator_words_score\", data=emails_df)\n",
    "\n",
    "plt.subplot(2, 3, 2)\n",
    "sns.barplot(x=\"is_spam\", y=\"url_counts\", data=emails_df)\n",
    "\n",
    "plt.subplot(2, 3, 3)\n",
    "sns.barplot(x=\"is_spam\", y=\"email_counts\", data=emails_df)\n",
    "\n",
    "plt.subplot(2, 3, 5)\n",
    "sns.barplot(x=\"is_spam\", y=\"contains_many_ucase\", data=emails_df)\n",
    "\n",
    "plt.subplot(2, 3, 6)\n",
    "sns.barplot(x=\"is_spam\", y=\"contains_html\", data=emails_df)\n",
    "\n"
   ]
  },
  {
   "cell_type": "markdown",
   "metadata": {},
   "source": [
    "#### Data prepration"
   ]
  },
  {
   "cell_type": "code",
   "execution_count": 6,
   "metadata": {},
   "outputs": [],
   "source": [
    "X = emails_df.iloc[:, :len(emails_df.columns)-1]\n",
    "y = emails_df.iloc[:, -1]"
   ]
  },
  {
   "cell_type": "code",
   "execution_count": 7,
   "metadata": {},
   "outputs": [],
   "source": [
    "X_train, X_test, y_train, y_test = train_test_split(X, y, test_size=0.2, random_state=42)"
   ]
  },
  {
   "cell_type": "markdown",
   "metadata": {},
   "source": [
    "### SVM"
   ]
  },
  {
   "cell_type": "code",
   "execution_count": 8,
   "metadata": {},
   "outputs": [
    {
     "data": {
      "text/plain": [
       "0.8501517450682853"
      ]
     },
     "execution_count": 8,
     "metadata": {},
     "output_type": "execute_result"
    }
   ],
   "source": [
    "svc_clf = SVC()\n",
    "svc_clf.fit(X_train, y_train)\n",
    "svc_clf.score(X_train, y_train)\n"
   ]
  },
  {
   "cell_type": "code",
   "execution_count": 9,
   "metadata": {},
   "outputs": [
    {
     "data": {
      "text/plain": [
       "0.8560606060606061"
      ]
     },
     "execution_count": 9,
     "metadata": {},
     "output_type": "execute_result"
    }
   ],
   "source": [
    "svc_clf.score(X_test, y_test)\n"
   ]
  },
  {
   "cell_type": "code",
   "execution_count": 10,
   "metadata": {},
   "outputs": [
    {
     "data": {
      "image/png": "[encoded data removed]",
      "text/plain": [
       "<Figure size 432x288 with 2 Axes>"
      ]
     },
     "metadata": {
      "needs_background": "light"
     },
     "output_type": "display_data"
    }
   ],
   "source": [
    "svc_conf_mtx = confusion_matrix(y_test, svc_clf.predict(X_test))\n",
    "ax = sns.heatmap(svc_conf_mtx)\n",
    "ax.set_xlabel('predicted')\n",
    "ax.set_ylabel('actual')\n",
    "plt.show()"
   ]
  },
  {
   "cell_type": "markdown",
   "metadata": {},
   "source": [
    "### RandomForest"
   ]
  },
  {
   "cell_type": "code",
   "execution_count": 11,
   "metadata": {},
   "outputs": [
    {
     "data": {
      "text/plain": [
       "0.9795144157814871"
      ]
     },
     "execution_count": 11,
     "metadata": {},
     "output_type": "execute_result"
    }
   ],
   "source": [
    "rf_clf = RandomForestClassifier()\n",
    "rf_clf.fit(X_train, y_train)\n",
    "rf_clf.score(X_train, y_train)"
   ]
  },
  {
   "cell_type": "code",
   "execution_count": 12,
   "metadata": {},
   "outputs": [
    {
     "data": {
      "text/plain": [
       "0.9227272727272727"
      ]
     },
     "execution_count": 12,
     "metadata": {},
     "output_type": "execute_result"
    }
   ],
   "source": [
    "rf_clf.score(X_test, y_test)"
   ]
  },
  {
   "cell_type": "code",
   "execution_count": 13,
   "metadata": {},
   "outputs": [
    {
     "data": {
      "image/png": "[encoded data removed]",
      "text/plain": [
       "<Figure size 432x288 with 2 Axes>"
      ]
     },
     "metadata": {
      "needs_background": "light"
     },
     "output_type": "display_data"
    }
   ],
   "source": [
    "rf_conf_mtx = confusion_matrix(y_test, rf_clf.predict(X_test))\n",
    "ax = sns.heatmap(rf_conf_mtx)\n",
    "ax.set_xlabel('predicted')\n",
    "ax.set_ylabel('actual')\n",
    "plt.show()"
   ]
  },
  {
   "cell_type": "markdown",
   "metadata": {},
   "source": [
    "### Logistic Regression"
   ]
  },
  {
   "cell_type": "code",
   "execution_count": 14,
   "metadata": {},
   "outputs": [
    {
     "data": {
      "text/plain": [
       "0.8767071320182094"
      ]
     },
     "execution_count": 14,
     "metadata": {},
     "output_type": "execute_result"
    }
   ],
   "source": [
    "lr_clf = LogisticRegression()\n",
    "lr_clf.fit(X_train, y_train)\n",
    "lr_clf.score(X_train, y_train)"
   ]
  },
  {
   "cell_type": "code",
   "execution_count": 15,
   "metadata": {},
   "outputs": [
    {
     "data": {
      "text/plain": [
       "0.8666666666666667"
      ]
     },
     "execution_count": 15,
     "metadata": {},
     "output_type": "execute_result"
    }
   ],
   "source": [
    "lr_clf.score(X_test, y_test)"
   ]
  },
  {
   "cell_type": "code",
   "execution_count": 16,
   "metadata": {},
   "outputs": [
    {
     "data": {
      "image/png": "[encoded data removed]",
      "text/plain": [
       "<Figure size 432x288 with 2 Axes>"
      ]
     },
     "metadata": {
      "needs_background": "light"
     },
     "output_type": "display_data"
    }
   ],
   "source": [
    "lr_conf_mtx = confusion_matrix(y_test, lr_clf.predict(X_test))\n",
    "ax = sns.heatmap(lr_conf_mtx)\n",
    "ax.set_xlabel('predicted')\n",
    "ax.set_ylabel('actual')\n",
    "plt.show()"
   ]
  },
  {
   "cell_type": "code",
   "execution_count": 17,
   "metadata": {},
   "outputs": [
    {
     "data": {
      "text/plain": [
       "0.9795144157814871"
      ]
     },
     "execution_count": 17,
     "metadata": {},
     "output_type": "execute_result"
    }
   ],
   "source": [
    "dt_clf = DecisionTreeClassifier()\n",
    "dt_clf.fit(X_train, y_train)\n",
    "dt_clf.score(X_train, y_train)"
   ]
  },
  {
   "cell_type": "code",
   "execution_count": 18,
   "metadata": {},
   "outputs": [
    {
     "data": {
      "text/plain": [
       "0.9196969696969697"
      ]
     },
     "execution_count": 18,
     "metadata": {},
     "output_type": "execute_result"
    }
   ],
   "source": [
    "dt_clf.score(X_test, y_test)"
   ]
  },
  {
   "cell_type": "code",
   "execution_count": 19,
   "metadata": {},
   "outputs": [
    {
     "data": {
      "image/png": "[encoded data removed]",
      "text/plain": [
       "<Figure size 432x288 with 2 Axes>"
      ]
     },
     "metadata": {
      "needs_background": "light"
     },
     "output_type": "display_data"
    }
   ],
   "source": [
    "dt_conf_mtx = confusion_matrix(y_test, dt_clf.predict(X_test))\n",
    "ax = sns.heatmap(dt_conf_mtx)\n",
    "ax.set_xlabel('predicted')\n",
    "ax.set_ylabel('actual')\n",
    "plt.show()"
   ]
  },
  {
   "cell_type": "markdown",
   "metadata": {},
   "source": [
    "### Comparing classifiers using K-Fold cross validation score"
   ]
  },
  {
   "cell_type": "code",
   "execution_count": 20,
   "metadata": {},
   "outputs": [],
   "source": [
    "lr_clf2 = LogisticRegression()\n",
    "lr_clf2_scores = cross_val_score(lr_clf2, X, y, scoring='roc_auc', cv=200)\n",
    "\n",
    "rf_clf2 = RandomForestClassifier()\n",
    "rf_clf2_scores = cross_val_score(rf_clf2, X, y, scoring='roc_auc', cv=200)\n",
    "\n",
    "svc_clf2 = SVC()\n",
    "svc_clf2_scores = cross_val_score(svc_clf2, X, y, scoring='roc_auc', cv=200)\n",
    "\n",
    "dt_clf2 = DecisionTreeClassifier()\n",
    "dt_clf2_scores = cross_val_score(dt_clf2, X, y, scoring='roc_auc', cv=200)"
   ]
  },
  {
   "cell_type": "code",
   "execution_count": 21,
   "metadata": {},
   "outputs": [
    {
     "data": {
      "image/png": "[encoded data removed]",
      "text/plain": [
       "<Figure size 1080x720 with 1 Axes>"
      ]
     },
     "metadata": {
      "needs_background": "light"
     },
     "output_type": "display_data"
    }
   ],
   "source": [
    "plt.figure(figsize=(15, 10))\n",
    "sns.kdeplot(svc_clf2_scores)\n",
    "sns.kdeplot(rf_clf2_scores)\n",
    "sns.kdeplot(lr_clf2_scores)\n",
    "sns.kdeplot(dt_clf2_scores)\n",
    "plt.legend(['svm', 'random_forest', 'logistic_reg', 'desicion_tree'])\n",
    "plt.show()"
   ]
  }
 ],
 "metadata": {
  "interpreter": {
   "hash": "b589f055809f65a74d46d0c74b6895495102909cd85e0125bdd2d4c65a35f119"
  },
  "kernelspec": {
   "display_name": "Python 3.9.7 ('base')",
   "language": "python",
   "name": "python3"
  },
  "language_info": {
   "codemirror_mode": {
    "name": "ipython",
    "version": 3
   },
   "file_extension": ".py",
   "mimetype": "text/x-python",
   "name": "python",
   "nbconvert_exporter": "python",
   "pygments_lexer": "ipython3",
   "version": "3.9.7"
  },
  "orig_nbformat": 4
 },
 "nbformat": 4,
 "nbformat_minor": 2
}
